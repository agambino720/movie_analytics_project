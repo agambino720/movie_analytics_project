{
 "cells": [
  {
   "cell_type": "markdown",
   "metadata": {},
   "source": [
    "# Movie Analytics Project "
   ]
  },
  {
   "cell_type": "markdown",
   "metadata": {},
   "source": [
    "## Overview"
   ]
  },
  {
   "cell_type": "markdown",
   "metadata": {},
   "source": [
    "Overview Here:"
   ]
  },
  {
   "cell_type": "markdown",
   "metadata": {},
   "source": [
    "### Loading in and Investigating the Data"
   ]
  },
  {
   "cell_type": "code",
   "execution_count": 18,
   "metadata": {
    "scrolled": true
   },
   "outputs": [
    {
     "name": "stdout",
     "output_type": "stream",
     "text": [
      "<class 'pandas.core.frame.DataFrame'>\n",
      "RangeIndex: 3387 entries, 0 to 3386\n",
      "Data columns (total 5 columns):\n",
      " #   Column          Non-Null Count  Dtype  \n",
      "---  ------          --------------  -----  \n",
      " 0   title           3387 non-null   object \n",
      " 1   studio          3382 non-null   object \n",
      " 2   domestic_gross  3359 non-null   float64\n",
      " 3   foreign_gross   2037 non-null   object \n",
      " 4   year            3387 non-null   int64  \n",
      "dtypes: float64(1), int64(1), object(3)\n",
      "memory usage: 132.4+ KB\n",
      "None\n",
      "            name\n",
      "0   movie_basics\n",
      "1      directors\n",
      "2      known_for\n",
      "3     movie_akas\n",
      "4  movie_ratings\n",
      "5        persons\n",
      "6     principals\n",
      "7        writers\n"
     ]
    }
   ],
   "source": [
    "import pandas as pd\n",
    "import sqlite3\n",
    "import zipfile\n",
    "\n",
    "movie_gross = pd.read_csv('bom.movie_gross.csv.gz', compression='gzip')\n",
    "print(movie_gross.info())\n",
    "\n",
    "with zipfile.ZipFile('im.db.zip', 'r') as zip_ref:\n",
    "    zip_ref.extractall('.')\n",
    "\n",
    "conn = sqlite3.connect('im.db')\n",
    "\n",
    "tables = pd.read_sql_query(\"SELECT name FROM sqlite_master WHERE type='table';\", conn)\n",
    "print(tables)\n"
   ]
  },
  {
   "cell_type": "code",
   "execution_count": 19,
   "metadata": {},
   "outputs": [
    {
     "data": {
      "text/html": [
       "<div>\n",
       "<style scoped>\n",
       "    .dataframe tbody tr th:only-of-type {\n",
       "        vertical-align: middle;\n",
       "    }\n",
       "\n",
       "    .dataframe tbody tr th {\n",
       "        vertical-align: top;\n",
       "    }\n",
       "\n",
       "    .dataframe thead th {\n",
       "        text-align: right;\n",
       "    }\n",
       "</style>\n",
       "<table border=\"1\" class=\"dataframe\">\n",
       "  <thead>\n",
       "    <tr style=\"text-align: right;\">\n",
       "      <th></th>\n",
       "      <th>title</th>\n",
       "      <th>studio</th>\n",
       "      <th>domestic_gross</th>\n",
       "      <th>foreign_gross</th>\n",
       "      <th>year</th>\n",
       "    </tr>\n",
       "  </thead>\n",
       "  <tbody>\n",
       "    <tr>\n",
       "      <th>0</th>\n",
       "      <td>Toy Story 3</td>\n",
       "      <td>BV</td>\n",
       "      <td>415000000.0</td>\n",
       "      <td>652000000</td>\n",
       "      <td>2010</td>\n",
       "    </tr>\n",
       "    <tr>\n",
       "      <th>1</th>\n",
       "      <td>Alice in Wonderland (2010)</td>\n",
       "      <td>BV</td>\n",
       "      <td>334200000.0</td>\n",
       "      <td>691300000</td>\n",
       "      <td>2010</td>\n",
       "    </tr>\n",
       "    <tr>\n",
       "      <th>2</th>\n",
       "      <td>Harry Potter and the Deathly Hallows Part 1</td>\n",
       "      <td>WB</td>\n",
       "      <td>296000000.0</td>\n",
       "      <td>664300000</td>\n",
       "      <td>2010</td>\n",
       "    </tr>\n",
       "    <tr>\n",
       "      <th>3</th>\n",
       "      <td>Inception</td>\n",
       "      <td>WB</td>\n",
       "      <td>292600000.0</td>\n",
       "      <td>535700000</td>\n",
       "      <td>2010</td>\n",
       "    </tr>\n",
       "    <tr>\n",
       "      <th>4</th>\n",
       "      <td>Shrek Forever After</td>\n",
       "      <td>P/DW</td>\n",
       "      <td>238700000.0</td>\n",
       "      <td>513900000</td>\n",
       "      <td>2010</td>\n",
       "    </tr>\n",
       "  </tbody>\n",
       "</table>\n",
       "</div>"
      ],
      "text/plain": [
       "                                         title studio  domestic_gross  \\\n",
       "0                                  Toy Story 3     BV     415000000.0   \n",
       "1                   Alice in Wonderland (2010)     BV     334200000.0   \n",
       "2  Harry Potter and the Deathly Hallows Part 1     WB     296000000.0   \n",
       "3                                    Inception     WB     292600000.0   \n",
       "4                          Shrek Forever After   P/DW     238700000.0   \n",
       "\n",
       "  foreign_gross  year  \n",
       "0     652000000  2010  \n",
       "1     691300000  2010  \n",
       "2     664300000  2010  \n",
       "3     535700000  2010  \n",
       "4     513900000  2010  "
      ]
     },
     "execution_count": 19,
     "metadata": {},
     "output_type": "execute_result"
    }
   ],
   "source": [
    "movie_gross.head()"
   ]
  },
  {
   "cell_type": "markdown",
   "metadata": {},
   "source": [
    "### Cleaning Movie Gross Dataset"
   ]
  },
  {
   "cell_type": "code",
   "execution_count": 20,
   "metadata": {},
   "outputs": [
    {
     "name": "stdout",
     "output_type": "stream",
     "text": [
      "title              object\n",
      "studio             object\n",
      "domestic_gross    float64\n",
      "foreign_gross     float64\n",
      "year                int64\n",
      "dtype: object\n"
     ]
    }
   ],
   "source": [
    "# Converting 'foreign_gross' to numeric so it can be used in analysis\n",
    "movie_gross['foreign_gross'] = pd.to_numeric(movie_gross['foreign_gross'].str.replace(',', ''), errors='coerce')\n",
    "\n",
    "print(movie_gross.dtypes)"
   ]
  },
  {
   "cell_type": "code",
   "execution_count": 22,
   "metadata": {},
   "outputs": [
    {
     "data": {
      "text/plain": [
       "title                0\n",
       "studio               5\n",
       "domestic_gross      28\n",
       "foreign_gross     1350\n",
       "year                 0\n",
       "dtype: int64"
      ]
     },
     "execution_count": 22,
     "metadata": {},
     "output_type": "execute_result"
    }
   ],
   "source": [
    "movie_gross.isnull().sum()"
   ]
  },
  {
   "cell_type": "code",
   "execution_count": 23,
   "metadata": {},
   "outputs": [
    {
     "name": "stdout",
     "output_type": "stream",
     "text": [
      "Rows with null 'studio':\n",
      "                              title studio  domestic_gross  foreign_gross  \\\n",
      "210   Outside the Law (Hors-la-loi)    NaN         96900.0      3300000.0   \n",
      "555         Fireflies in the Garden    NaN         70600.0      3300000.0   \n",
      "933           Keith Lemon: The Film    NaN             NaN      4000000.0   \n",
      "1862                 Plot for Peace    NaN          7100.0            NaN   \n",
      "2825               Secret Superstar    NaN             NaN    122000000.0   \n",
      "\n",
      "      year  \n",
      "210   2010  \n",
      "555   2011  \n",
      "933   2012  \n",
      "1862  2014  \n",
      "2825  2017  \n"
     ]
    }
   ],
   "source": [
    "# Checking out the rows that have null values in studio\n",
    "null_studio = movie_gross[movie_gross['studio'].isnull()]\n",
    "print(\"Rows with null 'studio':\")\n",
    "print(null_studio)"
   ]
  },
  {
   "cell_type": "code",
   "execution_count": 25,
   "metadata": {},
   "outputs": [
    {
     "name": "stdout",
     "output_type": "stream",
     "text": [
      "                              title                  studio  domestic_gross  \\\n",
      "210   Outside the Law (Hors-la-loi)    Tessalit Productions         96900.0   \n",
      "555         Fireflies in the Garden    Senator Distribution         70600.0   \n",
      "933           Keith Lemon: The Film            Lionsgate UK             NaN   \n",
      "1862                 Plot for Peace         Indelible Media          7100.0   \n",
      "2825               Secret Superstar  Aamir Khan Productions             NaN   \n",
      "\n",
      "      foreign_gross  year  \n",
      "210       3300000.0  2010  \n",
      "555       3300000.0  2011  \n",
      "933       4000000.0  2012  \n",
      "1862            NaN  2014  \n",
      "2825    122000000.0  2017  \n"
     ]
    }
   ],
   "source": [
    "# Manually updating the missing studios since there are only 5\n",
    "\n",
    "studios = {\n",
    "    210: 'Tessalit Productions',\n",
    "    555: 'Senator Distribution',\n",
    "    933: 'Lionsgate UK',\n",
    "    1862: 'Indelible Media',\n",
    "    2825: 'Aamir Khan Productions'\n",
    "}\n",
    "\n",
    "for index, studio in studios.items():\n",
    "    movie_gross.at[index, 'studio'] = studio\n",
    "\n",
    "updated_rows = movie_gross.loc[list(studios.keys())]\n",
    "print(updated_rows)\n"
   ]
  },
  {
   "cell_type": "code",
   "execution_count": 26,
   "metadata": {},
   "outputs": [],
   "source": [
    "# Dropping rows where domestic gross is null\n",
    "movie_gross.dropna(subset=['domestic_gross'], inplace=True)"
   ]
  },
  {
   "cell_type": "code",
   "execution_count": 27,
   "metadata": {},
   "outputs": [
    {
     "data": {
      "text/plain": [
       "title                0\n",
       "studio               0\n",
       "domestic_gross       0\n",
       "foreign_gross     1350\n",
       "year                 0\n",
       "dtype: int64"
      ]
     },
     "execution_count": 27,
     "metadata": {},
     "output_type": "execute_result"
    }
   ],
   "source": [
    "movie_gross.isnull().sum()"
   ]
  },
  {
   "cell_type": "code",
   "execution_count": 28,
   "metadata": {},
   "outputs": [],
   "source": [
    "# Creating another dataset with rows where foreign gross is not null for possible separate analysis later on\n",
    "foreign_gross_not_null = movie_gross.dropna(subset=['foreign_gross'])"
   ]
  },
  {
   "cell_type": "code",
   "execution_count": 29,
   "metadata": {},
   "outputs": [
    {
     "name": "stdout",
     "output_type": "stream",
     "text": [
      "                                         title studio  domestic_gross  \\\n",
      "0                                  toy story 3     bv     415000000.0   \n",
      "1                   alice in wonderland (2010)     bv     334200000.0   \n",
      "2  harry potter and the deathly hallows part 1     wb     296000000.0   \n",
      "3                                    inception     wb     292600000.0   \n",
      "4                          shrek forever after   p/dw     238700000.0   \n",
      "\n",
      "   foreign_gross  year  \n",
      "0    652000000.0  2010  \n",
      "1    691300000.0  2010  \n",
      "2    664300000.0  2010  \n",
      "3    535700000.0  2010  \n",
      "4    513900000.0  2010  \n",
      "                                         title studio  domestic_gross  \\\n",
      "0                                  toy story 3     bv     415000000.0   \n",
      "1                   alice in wonderland (2010)     bv     334200000.0   \n",
      "2  harry potter and the deathly hallows part 1     wb     296000000.0   \n",
      "3                                    inception     wb     292600000.0   \n",
      "4                          shrek forever after   p/dw     238700000.0   \n",
      "\n",
      "   foreign_gross  year  \n",
      "0    652000000.0  2010  \n",
      "1    691300000.0  2010  \n",
      "2    664300000.0  2010  \n",
      "3    535700000.0  2010  \n",
      "4    513900000.0  2010  \n"
     ]
    },
    {
     "name": "stderr",
     "output_type": "stream",
     "text": [
      "<ipython-input-29-dcc141885058>:7: SettingWithCopyWarning: \n",
      "A value is trying to be set on a copy of a slice from a DataFrame.\n",
      "Try using .loc[row_indexer,col_indexer] = value instead\n",
      "\n",
      "See the caveats in the documentation: https://pandas.pydata.org/pandas-docs/stable/user_guide/indexing.html#returning-a-view-versus-a-copy\n",
      "  foreign_gross_not_null['title'] = foreign_gross_not_null['title'].apply(standardize_text)\n",
      "<ipython-input-29-dcc141885058>:8: SettingWithCopyWarning: \n",
      "A value is trying to be set on a copy of a slice from a DataFrame.\n",
      "Try using .loc[row_indexer,col_indexer] = value instead\n",
      "\n",
      "See the caveats in the documentation: https://pandas.pydata.org/pandas-docs/stable/user_guide/indexing.html#returning-a-view-versus-a-copy\n",
      "  foreign_gross_not_null['studio'] = foreign_gross_not_null['studio'].apply(standardize_text)\n"
     ]
    }
   ],
   "source": [
    "# Standardizing names in studio and title\n",
    "def standardize_text(text):\n",
    "    return text.strip().lower()\n",
    "\n",
    "movie_gross['title'] = movie_gross['title'].apply(standardize_text)\n",
    "movie_gross['studio'] = movie_gross['studio'].apply(standardize_text)\n",
    "foreign_gross_not_null['title'] = foreign_gross_not_null['title'].apply(standardize_text)\n",
    "foreign_gross_not_null['studio'] = foreign_gross_not_null['studio'].apply(standardize_text)\n",
    "\n",
    "print(movie_gross.head())\n",
    "print(foreign_gross_not_null.head())\n"
   ]
  },
  {
   "cell_type": "code",
   "execution_count": 30,
   "metadata": {},
   "outputs": [
    {
     "name": "stdout",
     "output_type": "stream",
     "text": [
      "Number of duplicate rows in movie_gross: 0\n",
      "Number of duplicate rows in foreign_gross_not_null: 0\n"
     ]
    }
   ],
   "source": [
    "#Checking for duplicates in both datasets\n",
    "duplicates_movie_gross = movie_gross.duplicated().sum()\n",
    "print(f\"Number of duplicate rows in movie_gross: {duplicates_movie_gross}\")\n",
    "\n",
    "if duplicates_movie_gross > 0:\n",
    "    print(\"Duplicate rows in movie_gross:\")\n",
    "    print(movie_gross[movie_gross.duplicated()])\n",
    "\n",
    "duplicates_foreign_gross_not_null = foreign_gross_not_null.duplicated().sum()\n",
    "print(f\"Number of duplicate rows in foreign_gross_not_null: {duplicates_foreign_gross_not_null}\")\n",
    "\n",
    "if duplicates_foreign_gross_not_null > 0:\n",
    "    print(\"Duplicate rows in foreign_gross_not_null:\")\n",
    "    print(foreign_gross_not_null[foreign_gross_not_null.duplicated()])\n"
   ]
  },
  {
   "cell_type": "code",
   "execution_count": null,
   "metadata": {},
   "outputs": [],
   "source": []
  }
 ],
 "metadata": {
  "kernelspec": {
   "display_name": "Python (learn-env)",
   "language": "python",
   "name": "learn-env"
  },
  "language_info": {
   "codemirror_mode": {
    "name": "ipython",
    "version": 3
   },
   "file_extension": ".py",
   "mimetype": "text/x-python",
   "name": "python",
   "nbconvert_exporter": "python",
   "pygments_lexer": "ipython3",
   "version": "3.8.5"
  }
 },
 "nbformat": 4,
 "nbformat_minor": 4
}
